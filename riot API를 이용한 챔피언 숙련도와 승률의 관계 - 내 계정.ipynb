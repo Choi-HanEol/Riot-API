{
 "cells": [
  {
   "cell_type": "markdown",
   "id": "d44d66b4",
   "metadata": {},
   "source": [
    "https://static.developer.riotgames.com/docs/lol/queues.json\n",
    "rankUrl 에서 솔로랭크의 queue id는 420이다."
   ]
  },
  {
   "cell_type": "code",
   "execution_count": 81,
   "id": "18931a54",
   "metadata": {},
   "outputs": [],
   "source": [
    "import pandas as pd\n",
    "import requests\n",
    "from urllib import parse\n",
    "import numpy as np"
   ]
  },
  {
   "cell_type": "code",
   "execution_count": 82,
   "id": "14bdbf94",
   "metadata": {},
   "outputs": [
    {
     "name": "stdout",
     "output_type": "stream",
     "text": [
      "['KR_6476260263', 'KR_6476247226', 'KR_6473392456', 'KR_6473334456', 'KR_6473288509', 'KR_6473225683', 'KR_6472033246', 'KR_6471089977', 'KR_6471068264', 'KR_6471040686', 'KR_6465400962', 'KR_6465365623', 'KR_6465320332', 'KR_6462253974', 'KR_6460506787', 'KR_6460440029', 'KR_6429507614', 'KR_6414380076', 'KR_6414354067', 'KR_6414301920', 'KR_6413922478', 'KR_6413853699', 'KR_6412426568', 'KR_6384546738', 'KR_6384525015', 'KR_6380036144', 'KR_6371885234', 'KR_6367964577', 'KR_6363076710', 'KR_6363053489', 'KR_6363032390', 'KR_6360375836', 'KR_6360307263', 'KR_6329454311', 'KR_6305410440', 'KR_6305346534']\n"
     ]
    }
   ],
   "source": [
    "apiKey = 'RGAPI-a1fd8724-b6cd-461e-ad4a-bccce834889a'\n",
    "username = '컵보단리그' # 유저아이디\n",
    "# champ = 'Udyr' # 원하는 챔프(머신러닝결과값)\n",
    "\n",
    "id = parse.quote(username) # 아이디를 URL 인코딩\n",
    "\n",
    "url = 'https://kr.api.riotgames.com/lol/summoner/v4/summoners/by-name/' + id +'?api_key=' + apiKey #puuid값을 가져오기 위한 주소\n",
    "r = requests.get(url)\n",
    "r = r.json()\n",
    "puuid = r['puuid'] # 해당 유저의 puuid 값 가져오기\n",
    "encryptedSummonerId = r['id']\n",
    "\n",
    "profileUrl = 'https://kr.api.riotgames.com/lol/league/v4/entries/by-summoner/'+ encryptedSummonerId +'?api_key=' + apiKey\n",
    "r = requests.get(profileUrl)\n",
    "r = r.json()\n",
    "if len(r) == 1:\n",
    "    wins = r[0]['wins'] \n",
    "    losses = r[0]['losses']\n",
    "else:\n",
    "    wins = r[1]['wins']    # 자유랭크 정보가 있으면 r[1]['wins']\n",
    "    losses = r[1]['losses']    # 자유랭크 정보가 있으면 r[1]['losses']\n",
    "\n",
    "# 랭크 n경기 매치아이디 가져오기, 100개가 최대, 100개 이상의 매치데이터는 없는듯\n",
    "n = str(wins + losses)\n",
    "if int(n) > 100:\n",
    "    n = '100'\n",
    "\n",
    "rankUrl = 'https://asia.api.riotgames.com/lol/match/v5/matches/by-puuid/' + puuid + '/ids?queue=420&type=ranked&start=0&count='+n+'&api_key='+ apiKey\n",
    "r = requests.get(rankUrl)\n",
    "r = r.json()\n",
    "\n",
    "rankId = r\n",
    "print(rankId)"
   ]
  },
  {
   "cell_type": "code",
   "execution_count": 83,
   "id": "b1100239",
   "metadata": {},
   "outputs": [],
   "source": [
    "def getLatestDDragon():\n",
    "    ver_url = \"https://ddragon.leagueoflegends.com/api/versions.json\"\n",
    "    r = requests.get(ver_url)\n",
    "    r = r.json()\n",
    "    version = r[0]\n",
    "\n",
    "    cham_url = 'https://ddragon.leagueoflegends.com/cdn/'+version+'/data/en_US/champion.json'\n",
    "    r = requests.get(cham_url)\n",
    "    r = r.json()\n",
    "    champion = r['data']\n",
    "    return champion\n",
    "\n",
    "# 챔피언 id를 이름으로\n",
    "def getChampionByKey(key):\n",
    "    champion = getLatestDDragon()\n",
    "    for championName in champion:   \n",
    "        if champion[championName][\"key\"] == str(key):\n",
    "            return championName"
   ]
  },
  {
   "cell_type": "code",
   "execution_count": 84,
   "id": "c47aa34b",
   "metadata": {},
   "outputs": [],
   "source": [
    "cham_mastery_url = 'https://kr.api.riotgames.com/lol/champion-mastery/v4/champion-masteries/by-summoner/'+ encryptedSummonerId +'?api_key=' + apiKey\n",
    "r = requests.get(cham_mastery_url)\n",
    "r = r.json()\n",
    "championLevel = []  #챔피언 숙련도 레벨\n",
    "championPoints = []  #챔피언 숙련도\n",
    "\n",
    "mastered_champion_name = []\n",
    "\n",
    "\n",
    "for c in r:\n",
    "    mastered_champion_name.append(getChampionByKey(c['championId']))\n",
    "    championLevel.append(c['championLevel'])\n",
    "    championPoints.append(c['championPoints'])\n",
    "\n",
    "cham_mastery_df = pd.DataFrame({'champion' : mastered_champion_name,\n",
    "                   'championPoints' : championPoints,\n",
    "                   'championLevel' : championLevel,\n",
    "                  })"
   ]
  },
  {
   "cell_type": "code",
   "execution_count": 85,
   "id": "6db259c1",
   "metadata": {},
   "outputs": [
    {
     "data": {
      "text/html": [
       "<div>\n",
       "<style scoped>\n",
       "    .dataframe tbody tr th:only-of-type {\n",
       "        vertical-align: middle;\n",
       "    }\n",
       "\n",
       "    .dataframe tbody tr th {\n",
       "        vertical-align: top;\n",
       "    }\n",
       "\n",
       "    .dataframe thead th {\n",
       "        text-align: right;\n",
       "    }\n",
       "</style>\n",
       "<table border=\"1\" class=\"dataframe\">\n",
       "  <thead>\n",
       "    <tr style=\"text-align: right;\">\n",
       "      <th></th>\n",
       "      <th>champion</th>\n",
       "      <th>championPoints</th>\n",
       "      <th>championLevel</th>\n",
       "    </tr>\n",
       "  </thead>\n",
       "  <tbody>\n",
       "    <tr>\n",
       "      <th>0</th>\n",
       "      <td>Vayne</td>\n",
       "      <td>265397</td>\n",
       "      <td>7</td>\n",
       "    </tr>\n",
       "    <tr>\n",
       "      <th>1</th>\n",
       "      <td>Leblanc</td>\n",
       "      <td>204801</td>\n",
       "      <td>7</td>\n",
       "    </tr>\n",
       "    <tr>\n",
       "      <th>2</th>\n",
       "      <td>Khazix</td>\n",
       "      <td>175230</td>\n",
       "      <td>7</td>\n",
       "    </tr>\n",
       "    <tr>\n",
       "      <th>3</th>\n",
       "      <td>Lucian</td>\n",
       "      <td>144953</td>\n",
       "      <td>7</td>\n",
       "    </tr>\n",
       "    <tr>\n",
       "      <th>4</th>\n",
       "      <td>LeeSin</td>\n",
       "      <td>118510</td>\n",
       "      <td>7</td>\n",
       "    </tr>\n",
       "  </tbody>\n",
       "</table>\n",
       "</div>"
      ],
      "text/plain": [
       "  champion  championPoints  championLevel\n",
       "0    Vayne          265397              7\n",
       "1  Leblanc          204801              7\n",
       "2   Khazix          175230              7\n",
       "3   Lucian          144953              7\n",
       "4   LeeSin          118510              7"
      ]
     },
     "execution_count": 85,
     "metadata": {},
     "output_type": "execute_result"
    }
   ],
   "source": [
    "cham_mastery_df.head()"
   ]
  },
  {
   "cell_type": "code",
   "execution_count": 90,
   "id": "cc0452f6",
   "metadata": {},
   "outputs": [
    {
     "name": "stdout",
     "output_type": "stream",
     "text": [
      "['Ashe', 'Ezreal', 'Ashe', 'Leblanc', 'TwistedFate', 'Ahri', 'Nidalee', 'Khazix', 'TwistedFate', 'Yone', 'Ahri', 'Jhin', 'Ashe', 'Ezreal', 'Ezreal', 'Jinx', 'Ashe', 'Ahri', 'Ashe', 'Karma', 'Blitzcrank', 'Sona', 'Akali', 'Ashe', 'Xayah', 'Viktor', 'Katarina', 'Ahri', 'Lucian', 'Ahri', 'Leblanc', 'Ahri', 'Leblanc', 'Ahri', 'Leblanc', 'Talon']\n",
      "[True, True, True, True, False, False, False, True, True, True, True, False, True, True, True, False, False, False, False, False, True, False, True, False, True, False, False, True, True, False, False, True, False, False, False, False]\n",
      "[9, 1, 2, 5, 5, 5, 7, 5, 5, 7, 2, 2, 7, 4, 6, 6, 6, 4, 8, 10, 9, 10, 0, 3, 3, 6, 12, 7, 3, 6, 5, 2, 5, 8, 9, 12]\n",
      "[9, 8, 5, 15, 0, 3, 7, 10, 7, 16, 7, 4, 9, 16, 16, 11, 3, 5, 5, 3, 2, 2, 2, 7, 19, 1, 7, 3, 7, 2, 3, 6, 5, 7, 6, 9]\n"
     ]
    }
   ],
   "source": [
    "win = []\n",
    "assists = []\n",
    "deaths = []\n",
    "kills = []\n",
    "cham = []\n",
    "for i in rankId:\n",
    "    url = 'https://asia.api.riotgames.com/lol/match/v5/matches/' + i + '?api_key=' + apiKey\n",
    "    r = requests.get(url)\n",
    "    r = r.json()\n",
    "    \n",
    "    \n",
    "    info = r['info']  # 전체 데이터에서 info를 추출\n",
    "    part = info['participants'] # info 데이터에서 유저들의 정보 추출\n",
    "    for j in range(0,10): # 총 10명의 유저중 내가 원하는 puuid값을 가진 유저를 추출\n",
    "        if part[j]['puuid'] == puuid:\n",
    "#             if part[j]['championName'] == champ: # 유저가 champ를 플레이했던 매치데이터를 추출\n",
    "            assists.append(part[j]['assists'])\n",
    "            cham.append(part[j]['championName'])\n",
    "            win.append(part[j]['win'])\n",
    "            deaths.append(part[j]['deaths'])\n",
    "            kills.append(part[j]['kills'])\n",
    "                # 승리, 킬뎃값 넣어주기\n",
    "print(cham)\n",
    "print(win)\n",
    "print(deaths)\n",
    "print(kills)"
   ]
  },
  {
   "cell_type": "code",
   "execution_count": 65,
   "id": "d24c9e4b",
   "metadata": {},
   "outputs": [
    {
     "data": {
      "text/html": [
       "<div>\n",
       "<style scoped>\n",
       "    .dataframe tbody tr th:only-of-type {\n",
       "        vertical-align: middle;\n",
       "    }\n",
       "\n",
       "    .dataframe tbody tr th {\n",
       "        vertical-align: top;\n",
       "    }\n",
       "\n",
       "    .dataframe thead th {\n",
       "        text-align: right;\n",
       "    }\n",
       "</style>\n",
       "<table border=\"1\" class=\"dataframe\">\n",
       "  <thead>\n",
       "    <tr style=\"text-align: right;\">\n",
       "      <th></th>\n",
       "      <th>champion</th>\n",
       "      <th>win</th>\n",
       "      <th>kills</th>\n",
       "      <th>deaths</th>\n",
       "      <th>assists</th>\n",
       "    </tr>\n",
       "  </thead>\n",
       "  <tbody>\n",
       "    <tr>\n",
       "      <th>0</th>\n",
       "      <td>Ashe</td>\n",
       "      <td>True</td>\n",
       "      <td>9</td>\n",
       "      <td>9</td>\n",
       "      <td>15</td>\n",
       "    </tr>\n",
       "    <tr>\n",
       "      <th>1</th>\n",
       "      <td>Ezreal</td>\n",
       "      <td>True</td>\n",
       "      <td>8</td>\n",
       "      <td>1</td>\n",
       "      <td>11</td>\n",
       "    </tr>\n",
       "    <tr>\n",
       "      <th>2</th>\n",
       "      <td>Ashe</td>\n",
       "      <td>True</td>\n",
       "      <td>5</td>\n",
       "      <td>2</td>\n",
       "      <td>11</td>\n",
       "    </tr>\n",
       "    <tr>\n",
       "      <th>3</th>\n",
       "      <td>Leblanc</td>\n",
       "      <td>True</td>\n",
       "      <td>15</td>\n",
       "      <td>5</td>\n",
       "      <td>5</td>\n",
       "    </tr>\n",
       "    <tr>\n",
       "      <th>4</th>\n",
       "      <td>TwistedFate</td>\n",
       "      <td>False</td>\n",
       "      <td>0</td>\n",
       "      <td>5</td>\n",
       "      <td>5</td>\n",
       "    </tr>\n",
       "  </tbody>\n",
       "</table>\n",
       "</div>"
      ],
      "text/plain": [
       "      champion    win  kills  deaths  assists\n",
       "0         Ashe   True      9       9       15\n",
       "1       Ezreal   True      8       1       11\n",
       "2         Ashe   True      5       2       11\n",
       "3      Leblanc   True     15       5        5\n",
       "4  TwistedFate  False      0       5        5"
      ]
     },
     "execution_count": 65,
     "metadata": {},
     "output_type": "execute_result"
    }
   ],
   "source": [
    "kda_df = pd.DataFrame({'champion' : cham,\n",
    "                   'win' : win,\n",
    "                   'kills' : kills,\n",
    "                   'deaths' : deaths,\n",
    "                   'assists' : assists\n",
    "                  })\n",
    "kda_df.head()"
   ]
  },
  {
   "cell_type": "code",
   "execution_count": 66,
   "id": "5de7ad53",
   "metadata": {},
   "outputs": [
    {
     "data": {
      "text/html": [
       "<div>\n",
       "<style scoped>\n",
       "    .dataframe tbody tr th:only-of-type {\n",
       "        vertical-align: middle;\n",
       "    }\n",
       "\n",
       "    .dataframe tbody tr th {\n",
       "        vertical-align: top;\n",
       "    }\n",
       "\n",
       "    .dataframe thead th {\n",
       "        text-align: right;\n",
       "    }\n",
       "</style>\n",
       "<table border=\"1\" class=\"dataframe\">\n",
       "  <thead>\n",
       "    <tr style=\"text-align: right;\">\n",
       "      <th></th>\n",
       "      <th>champion</th>\n",
       "      <th>win</th>\n",
       "      <th>kills</th>\n",
       "      <th>deaths</th>\n",
       "      <th>assists</th>\n",
       "    </tr>\n",
       "  </thead>\n",
       "  <tbody>\n",
       "    <tr>\n",
       "      <th>0</th>\n",
       "      <td>Ashe</td>\n",
       "      <td>True</td>\n",
       "      <td>9</td>\n",
       "      <td>9</td>\n",
       "      <td>15</td>\n",
       "    </tr>\n",
       "    <tr>\n",
       "      <th>2</th>\n",
       "      <td>Ashe</td>\n",
       "      <td>True</td>\n",
       "      <td>5</td>\n",
       "      <td>2</td>\n",
       "      <td>11</td>\n",
       "    </tr>\n",
       "    <tr>\n",
       "      <th>12</th>\n",
       "      <td>Ashe</td>\n",
       "      <td>True</td>\n",
       "      <td>9</td>\n",
       "      <td>7</td>\n",
       "      <td>17</td>\n",
       "    </tr>\n",
       "    <tr>\n",
       "      <th>16</th>\n",
       "      <td>Ashe</td>\n",
       "      <td>False</td>\n",
       "      <td>3</td>\n",
       "      <td>6</td>\n",
       "      <td>4</td>\n",
       "    </tr>\n",
       "    <tr>\n",
       "      <th>18</th>\n",
       "      <td>Ashe</td>\n",
       "      <td>False</td>\n",
       "      <td>5</td>\n",
       "      <td>8</td>\n",
       "      <td>3</td>\n",
       "    </tr>\n",
       "    <tr>\n",
       "      <th>23</th>\n",
       "      <td>Ashe</td>\n",
       "      <td>False</td>\n",
       "      <td>7</td>\n",
       "      <td>3</td>\n",
       "      <td>12</td>\n",
       "    </tr>\n",
       "  </tbody>\n",
       "</table>\n",
       "</div>"
      ],
      "text/plain": [
       "   champion    win  kills  deaths  assists\n",
       "0      Ashe   True      9       9       15\n",
       "2      Ashe   True      5       2       11\n",
       "12     Ashe   True      9       7       17\n",
       "16     Ashe  False      3       6        4\n",
       "18     Ashe  False      5       8        3\n",
       "23     Ashe  False      7       3       12"
      ]
     },
     "execution_count": 66,
     "metadata": {},
     "output_type": "execute_result"
    }
   ],
   "source": [
    "   \n",
    "tmp_df = kda_df.loc[(kda_df['champion'] == cham[0])]\n",
    "tmp_df"
   ]
  },
  {
   "cell_type": "code",
   "execution_count": 67,
   "id": "b4ee0751",
   "metadata": {},
   "outputs": [],
   "source": [
    "cham = list(set(cham))\n",
    "SoloRank_df = pd.DataFrame(columns=['total_play','champion', 'win rate', 'kda'])\n",
    "\n",
    "for i in range(len(cham)):    \n",
    "    tmp_df = kda_df.loc[(kda_df['champion'] == cham[i])]\n",
    "    win_rate = len(tmp_df.loc[tmp_df['win'] == True]) / len(tmp_df)    #승률\n",
    "    win_rate = round(win_rate, 2)\n",
    "    try:\n",
    "        kda = float(tmp_df['kills'].sum() + tmp_df['assists'].sum()) / float(tmp_df['deaths'].sum())\n",
    "        kda = round(kda, 2)\n",
    "    except ZeroDivisionError:\n",
    "        kda = 'perfect - no deaths'\n",
    "    SoloRank_df.loc[len(SoloRank_df)] = [len(tmp_df), cham[i], win_rate, kda]"
   ]
  },
  {
   "cell_type": "code",
   "execution_count": 68,
   "id": "b04081a0",
   "metadata": {},
   "outputs": [],
   "source": [
    "SoloRank_df = SoloRank_df.sort_values('total_play', ascending=False)\n",
    "SoloRank_df = SoloRank_df.set_index(keys=['total_play'])"
   ]
  },
  {
   "cell_type": "code",
   "execution_count": 69,
   "id": "22561306",
   "metadata": {},
   "outputs": [
    {
     "data": {
      "text/html": [
       "<div>\n",
       "<style scoped>\n",
       "    .dataframe tbody tr th:only-of-type {\n",
       "        vertical-align: middle;\n",
       "    }\n",
       "\n",
       "    .dataframe tbody tr th {\n",
       "        vertical-align: top;\n",
       "    }\n",
       "\n",
       "    .dataframe thead th {\n",
       "        text-align: right;\n",
       "    }\n",
       "</style>\n",
       "<table border=\"1\" class=\"dataframe\">\n",
       "  <thead>\n",
       "    <tr style=\"text-align: right;\">\n",
       "      <th></th>\n",
       "      <th>champion</th>\n",
       "      <th>win rate</th>\n",
       "      <th>kda</th>\n",
       "    </tr>\n",
       "    <tr>\n",
       "      <th>total_play</th>\n",
       "      <th></th>\n",
       "      <th></th>\n",
       "      <th></th>\n",
       "    </tr>\n",
       "  </thead>\n",
       "  <tbody>\n",
       "    <tr>\n",
       "      <th>7</th>\n",
       "      <td>Ahri</td>\n",
       "      <td>0.43</td>\n",
       "      <td>1.94</td>\n",
       "    </tr>\n",
       "    <tr>\n",
       "      <th>6</th>\n",
       "      <td>Ashe</td>\n",
       "      <td>0.50</td>\n",
       "      <td>2.86</td>\n",
       "    </tr>\n",
       "    <tr>\n",
       "      <th>4</th>\n",
       "      <td>Leblanc</td>\n",
       "      <td>0.25</td>\n",
       "      <td>1.83</td>\n",
       "    </tr>\n",
       "    <tr>\n",
       "      <th>3</th>\n",
       "      <td>Ezreal</td>\n",
       "      <td>1.00</td>\n",
       "      <td>6.36</td>\n",
       "    </tr>\n",
       "    <tr>\n",
       "      <th>2</th>\n",
       "      <td>TwistedFate</td>\n",
       "      <td>0.50</td>\n",
       "      <td>1.6</td>\n",
       "    </tr>\n",
       "  </tbody>\n",
       "</table>\n",
       "</div>"
      ],
      "text/plain": [
       "               champion  win rate   kda\n",
       "total_play                             \n",
       "7                  Ahri      0.43  1.94\n",
       "6                  Ashe      0.50  2.86\n",
       "4               Leblanc      0.25  1.83\n",
       "3                Ezreal      1.00  6.36\n",
       "2           TwistedFate      0.50   1.6"
      ]
     },
     "execution_count": 69,
     "metadata": {},
     "output_type": "execute_result"
    }
   ],
   "source": [
    "SoloRank_df.head()"
   ]
  },
  {
   "cell_type": "code",
   "execution_count": 70,
   "id": "86ada5c7",
   "metadata": {},
   "outputs": [
    {
     "data": {
      "text/html": [
       "<div>\n",
       "<style scoped>\n",
       "    .dataframe tbody tr th:only-of-type {\n",
       "        vertical-align: middle;\n",
       "    }\n",
       "\n",
       "    .dataframe tbody tr th {\n",
       "        vertical-align: top;\n",
       "    }\n",
       "\n",
       "    .dataframe thead th {\n",
       "        text-align: right;\n",
       "    }\n",
       "</style>\n",
       "<table border=\"1\" class=\"dataframe\">\n",
       "  <thead>\n",
       "    <tr style=\"text-align: right;\">\n",
       "      <th></th>\n",
       "      <th>champion</th>\n",
       "      <th>win rate</th>\n",
       "      <th>kda</th>\n",
       "    </tr>\n",
       "    <tr>\n",
       "      <th>total_play</th>\n",
       "      <th></th>\n",
       "      <th></th>\n",
       "      <th></th>\n",
       "    </tr>\n",
       "  </thead>\n",
       "  <tbody>\n",
       "    <tr>\n",
       "      <th>7</th>\n",
       "      <td>Ahri</td>\n",
       "      <td>0.43</td>\n",
       "      <td>1.94</td>\n",
       "    </tr>\n",
       "    <tr>\n",
       "      <th>6</th>\n",
       "      <td>NaN</td>\n",
       "      <td>NaN</td>\n",
       "      <td>NaN</td>\n",
       "    </tr>\n",
       "    <tr>\n",
       "      <th>4</th>\n",
       "      <td>NaN</td>\n",
       "      <td>NaN</td>\n",
       "      <td>NaN</td>\n",
       "    </tr>\n",
       "    <tr>\n",
       "      <th>3</th>\n",
       "      <td>NaN</td>\n",
       "      <td>NaN</td>\n",
       "      <td>NaN</td>\n",
       "    </tr>\n",
       "    <tr>\n",
       "      <th>2</th>\n",
       "      <td>NaN</td>\n",
       "      <td>NaN</td>\n",
       "      <td>NaN</td>\n",
       "    </tr>\n",
       "  </tbody>\n",
       "</table>\n",
       "</div>"
      ],
      "text/plain": [
       "           champion  win rate   kda\n",
       "total_play                         \n",
       "7              Ahri      0.43  1.94\n",
       "6               NaN       NaN   NaN\n",
       "4               NaN       NaN   NaN\n",
       "3               NaN       NaN   NaN\n",
       "2               NaN       NaN   NaN"
      ]
     },
     "execution_count": 70,
     "metadata": {},
     "output_type": "execute_result"
    }
   ],
   "source": [
    "SoloRank_df.where('Ahri' == SoloRank_df['champion']).head() # where을 쓰면 나머지 행까지 NaN으로 표시되면서 나타냄"
   ]
  },
  {
   "cell_type": "code",
   "execution_count": 71,
   "id": "4301d2a6",
   "metadata": {},
   "outputs": [
    {
     "data": {
      "text/html": [
       "<div>\n",
       "<style scoped>\n",
       "    .dataframe tbody tr th:only-of-type {\n",
       "        vertical-align: middle;\n",
       "    }\n",
       "\n",
       "    .dataframe tbody tr th {\n",
       "        vertical-align: top;\n",
       "    }\n",
       "\n",
       "    .dataframe thead th {\n",
       "        text-align: right;\n",
       "    }\n",
       "</style>\n",
       "<table border=\"1\" class=\"dataframe\">\n",
       "  <thead>\n",
       "    <tr style=\"text-align: right;\">\n",
       "      <th></th>\n",
       "      <th>champion</th>\n",
       "      <th>win rate</th>\n",
       "      <th>kda</th>\n",
       "    </tr>\n",
       "    <tr>\n",
       "      <th>total_play</th>\n",
       "      <th></th>\n",
       "      <th></th>\n",
       "      <th></th>\n",
       "    </tr>\n",
       "  </thead>\n",
       "  <tbody>\n",
       "    <tr>\n",
       "      <th>7</th>\n",
       "      <td>Ahri</td>\n",
       "      <td>0.43</td>\n",
       "      <td>1.94</td>\n",
       "    </tr>\n",
       "  </tbody>\n",
       "</table>\n",
       "</div>"
      ],
      "text/plain": [
       "           champion  win rate   kda\n",
       "total_play                         \n",
       "7              Ahri      0.43  1.94"
      ]
     },
     "execution_count": 71,
     "metadata": {},
     "output_type": "execute_result"
    }
   ],
   "source": [
    "SoloRank_df[SoloRank_df['champion'] == 'Ahri']"
   ]
  },
  {
   "cell_type": "code",
   "execution_count": 72,
   "id": "952b8e84",
   "metadata": {},
   "outputs": [],
   "source": [
    "SoloRank_with_mastery_df = pd.merge(SoloRank_df, cham_mastery_df, left_on='champion', right_on='champion', how='left')"
   ]
  },
  {
   "cell_type": "code",
   "execution_count": 73,
   "id": "7e730cb7",
   "metadata": {},
   "outputs": [
    {
     "data": {
      "text/html": [
       "<div>\n",
       "<style scoped>\n",
       "    .dataframe tbody tr th:only-of-type {\n",
       "        vertical-align: middle;\n",
       "    }\n",
       "\n",
       "    .dataframe tbody tr th {\n",
       "        vertical-align: top;\n",
       "    }\n",
       "\n",
       "    .dataframe thead th {\n",
       "        text-align: right;\n",
       "    }\n",
       "</style>\n",
       "<table border=\"1\" class=\"dataframe\">\n",
       "  <thead>\n",
       "    <tr style=\"text-align: right;\">\n",
       "      <th></th>\n",
       "      <th>champion</th>\n",
       "      <th>win rate</th>\n",
       "      <th>kda</th>\n",
       "      <th>championPoints</th>\n",
       "      <th>championLevel</th>\n",
       "    </tr>\n",
       "    <tr>\n",
       "      <th>total_play</th>\n",
       "      <th></th>\n",
       "      <th></th>\n",
       "      <th></th>\n",
       "      <th></th>\n",
       "      <th></th>\n",
       "    </tr>\n",
       "  </thead>\n",
       "  <tbody>\n",
       "    <tr>\n",
       "      <th>7</th>\n",
       "      <td>Ahri</td>\n",
       "      <td>0.43</td>\n",
       "      <td>1.94</td>\n",
       "      <td>117781</td>\n",
       "      <td>7</td>\n",
       "    </tr>\n",
       "    <tr>\n",
       "      <th>6</th>\n",
       "      <td>Ashe</td>\n",
       "      <td>0.50</td>\n",
       "      <td>2.86</td>\n",
       "      <td>27760</td>\n",
       "      <td>5</td>\n",
       "    </tr>\n",
       "    <tr>\n",
       "      <th>4</th>\n",
       "      <td>Leblanc</td>\n",
       "      <td>0.25</td>\n",
       "      <td>1.83</td>\n",
       "      <td>204801</td>\n",
       "      <td>7</td>\n",
       "    </tr>\n",
       "    <tr>\n",
       "      <th>3</th>\n",
       "      <td>Ezreal</td>\n",
       "      <td>1.00</td>\n",
       "      <td>6.36</td>\n",
       "      <td>91020</td>\n",
       "      <td>7</td>\n",
       "    </tr>\n",
       "    <tr>\n",
       "      <th>2</th>\n",
       "      <td>TwistedFate</td>\n",
       "      <td>0.50</td>\n",
       "      <td>1.6</td>\n",
       "      <td>27061</td>\n",
       "      <td>5</td>\n",
       "    </tr>\n",
       "    <tr>\n",
       "      <th>1</th>\n",
       "      <td>Talon</td>\n",
       "      <td>0.00</td>\n",
       "      <td>1.08</td>\n",
       "      <td>31981</td>\n",
       "      <td>6</td>\n",
       "    </tr>\n",
       "    <tr>\n",
       "      <th>1</th>\n",
       "      <td>Blitzcrank</td>\n",
       "      <td>1.00</td>\n",
       "      <td>2.11</td>\n",
       "      <td>10572</td>\n",
       "      <td>3</td>\n",
       "    </tr>\n",
       "    <tr>\n",
       "      <th>1</th>\n",
       "      <td>Xayah</td>\n",
       "      <td>1.00</td>\n",
       "      <td>8.0</td>\n",
       "      <td>45417</td>\n",
       "      <td>7</td>\n",
       "    </tr>\n",
       "    <tr>\n",
       "      <th>1</th>\n",
       "      <td>Lucian</td>\n",
       "      <td>1.00</td>\n",
       "      <td>5.67</td>\n",
       "      <td>144953</td>\n",
       "      <td>7</td>\n",
       "    </tr>\n",
       "    <tr>\n",
       "      <th>1</th>\n",
       "      <td>Katarina</td>\n",
       "      <td>0.00</td>\n",
       "      <td>0.83</td>\n",
       "      <td>93442</td>\n",
       "      <td>7</td>\n",
       "    </tr>\n",
       "    <tr>\n",
       "      <th>1</th>\n",
       "      <td>Akali</td>\n",
       "      <td>1.00</td>\n",
       "      <td>perfect - no deaths</td>\n",
       "      <td>86376</td>\n",
       "      <td>7</td>\n",
       "    </tr>\n",
       "    <tr>\n",
       "      <th>1</th>\n",
       "      <td>Sona</td>\n",
       "      <td>0.00</td>\n",
       "      <td>0.9</td>\n",
       "      <td>173</td>\n",
       "      <td>1</td>\n",
       "    </tr>\n",
       "    <tr>\n",
       "      <th>1</th>\n",
       "      <td>Yone</td>\n",
       "      <td>1.00</td>\n",
       "      <td>2.71</td>\n",
       "      <td>31675</td>\n",
       "      <td>6</td>\n",
       "    </tr>\n",
       "    <tr>\n",
       "      <th>1</th>\n",
       "      <td>Jinx</td>\n",
       "      <td>0.00</td>\n",
       "      <td>3.17</td>\n",
       "      <td>30108</td>\n",
       "      <td>5</td>\n",
       "    </tr>\n",
       "    <tr>\n",
       "      <th>1</th>\n",
       "      <td>Jhin</td>\n",
       "      <td>0.00</td>\n",
       "      <td>2.5</td>\n",
       "      <td>67329</td>\n",
       "      <td>7</td>\n",
       "    </tr>\n",
       "    <tr>\n",
       "      <th>1</th>\n",
       "      <td>Nidalee</td>\n",
       "      <td>0.00</td>\n",
       "      <td>1.71</td>\n",
       "      <td>60297</td>\n",
       "      <td>6</td>\n",
       "    </tr>\n",
       "    <tr>\n",
       "      <th>1</th>\n",
       "      <td>Karma</td>\n",
       "      <td>0.00</td>\n",
       "      <td>0.5</td>\n",
       "      <td>3831</td>\n",
       "      <td>2</td>\n",
       "    </tr>\n",
       "    <tr>\n",
       "      <th>1</th>\n",
       "      <td>Khazix</td>\n",
       "      <td>1.00</td>\n",
       "      <td>2.8</td>\n",
       "      <td>175230</td>\n",
       "      <td>7</td>\n",
       "    </tr>\n",
       "    <tr>\n",
       "      <th>1</th>\n",
       "      <td>Viktor</td>\n",
       "      <td>0.00</td>\n",
       "      <td>0.17</td>\n",
       "      <td>12440</td>\n",
       "      <td>3</td>\n",
       "    </tr>\n",
       "  </tbody>\n",
       "</table>\n",
       "</div>"
      ],
      "text/plain": [
       "               champion  win rate                  kda  championPoints  \\\n",
       "total_play                                                               \n",
       "7                  Ahri      0.43                 1.94          117781   \n",
       "6                  Ashe      0.50                 2.86           27760   \n",
       "4               Leblanc      0.25                 1.83          204801   \n",
       "3                Ezreal      1.00                 6.36           91020   \n",
       "2           TwistedFate      0.50                  1.6           27061   \n",
       "1                 Talon      0.00                 1.08           31981   \n",
       "1            Blitzcrank      1.00                 2.11           10572   \n",
       "1                 Xayah      1.00                  8.0           45417   \n",
       "1                Lucian      1.00                 5.67          144953   \n",
       "1              Katarina      0.00                 0.83           93442   \n",
       "1                 Akali      1.00  perfect - no deaths           86376   \n",
       "1                  Sona      0.00                  0.9             173   \n",
       "1                  Yone      1.00                 2.71           31675   \n",
       "1                  Jinx      0.00                 3.17           30108   \n",
       "1                  Jhin      0.00                  2.5           67329   \n",
       "1               Nidalee      0.00                 1.71           60297   \n",
       "1                 Karma      0.00                  0.5            3831   \n",
       "1                Khazix      1.00                  2.8          175230   \n",
       "1                Viktor      0.00                 0.17           12440   \n",
       "\n",
       "            championLevel  \n",
       "total_play                 \n",
       "7                       7  \n",
       "6                       5  \n",
       "4                       7  \n",
       "3                       7  \n",
       "2                       5  \n",
       "1                       6  \n",
       "1                       3  \n",
       "1                       7  \n",
       "1                       7  \n",
       "1                       7  \n",
       "1                       7  \n",
       "1                       1  \n",
       "1                       6  \n",
       "1                       5  \n",
       "1                       7  \n",
       "1                       6  \n",
       "1                       2  \n",
       "1                       7  \n",
       "1                       3  "
      ]
     },
     "execution_count": 73,
     "metadata": {},
     "output_type": "execute_result"
    }
   ],
   "source": [
    "SoloRank_with_mastery_df.set_index(SoloRank_df.index)"
   ]
  },
  {
   "cell_type": "code",
   "execution_count": 74,
   "id": "d3a0fb60",
   "metadata": {},
   "outputs": [
    {
     "data": {
      "image/png": "[encoded data removed]",
      "text/plain": [
       "<Figure size 720x360 with 1 Axes>"
      ]
     },
     "metadata": {
      "needs_background": "light"
     },
     "output_type": "display_data"
    }
   ],
   "source": [
    "import matplotlib.pyplot as plt\n",
    "import matplotlib\n",
    "\n",
    "x = SoloRank_with_mastery_df['championPoints']\n",
    "y = SoloRank_with_mastery_df['win rate']\n",
    "\n",
    "plt.figure(figsize=(10, 5))\n",
    "plt.xlabel(\"championPoints\")\n",
    "plt.ylabel(\"win rate\")\n",
    "plt.scatter(x, y)\n",
    "plt.show()"
   ]
  },
  {
   "cell_type": "markdown",
   "id": "f034f0cc",
   "metadata": {},
   "source": [
    "x 좌표의 값의 범위가 너무 넓다. 표준화 및 정규화를 하여 스케일링하자."
   ]
  },
  {
   "cell_type": "markdown",
   "id": "d764cb9b",
   "metadata": {},
   "source": [
    "### 데이터 표준화\n",
    "StandardScaler: 데이터를 표준 정규 분포로 변환하는 데 사용되는 변환기, 평균을 0, 분산을 1로 표준화"
   ]
  },
  {
   "cell_type": "code",
   "execution_count": 75,
   "id": "29726919",
   "metadata": {},
   "outputs": [],
   "source": [
    "from sklearn.preprocessing import StandardScaler\n",
    "x = np.array(x).reshape(-1, 1)\n",
    "scaler = StandardScaler()\n",
    "scaled_x = scaler.fit_transform(x)"
   ]
  },
  {
   "cell_type": "code",
   "execution_count": 76,
   "id": "ddacf2b8",
   "metadata": {},
   "outputs": [
    {
     "data": {
      "image/png": "[encoded data removed]",
      "text/plain": [
       "<Figure size 720x360 with 1 Axes>"
      ]
     },
     "metadata": {
      "needs_background": "light"
     },
     "output_type": "display_data"
    }
   ],
   "source": [
    "plt.figure(figsize=(10, 5))\n",
    "plt.xlabel(\"championPoints\")\n",
    "plt.ylabel(\"win rate\")\n",
    "plt.scatter(scaled_x, y)\n",
    "plt.show()"
   ]
  },
  {
   "cell_type": "markdown",
   "id": "b15f04c6",
   "metadata": {},
   "source": [
    "### 데이터 정규화\n",
    "MinMaxScaler: 0~1 사이의 값으로 정규화"
   ]
  },
  {
   "cell_type": "code",
   "execution_count": 77,
   "id": "18b9f94a",
   "metadata": {},
   "outputs": [],
   "source": [
    "from sklearn.preprocessing import MinMaxScaler\n",
    "x = np.array(x).reshape(-1, 1)\n",
    "scaler = MinMaxScaler()\n",
    "scaled_x = scaler.fit_transform(x)"
   ]
  },
  {
   "cell_type": "code",
   "execution_count": 78,
   "id": "0bb02cdc",
   "metadata": {},
   "outputs": [
    {
     "data": {
      "image/png": "[encoded data removed]",
      "text/plain": [
       "<Figure size 720x360 with 1 Axes>"
      ]
     },
     "metadata": {
      "needs_background": "light"
     },
     "output_type": "display_data"
    }
   ],
   "source": [
    "plt.figure(figsize=(10, 5))\n",
    "plt.xlabel(\"championPoints\")\n",
    "plt.ylabel(\"win rate\")\n",
    "plt.scatter(scaled_x, y)\n",
    "plt.show()"
   ]
  },
  {
   "cell_type": "markdown",
   "id": "b4661cc2",
   "metadata": {},
   "source": [
    "### 히트맵 그리기"
   ]
  },
  {
   "cell_type": "code",
   "execution_count": 100,
   "id": "40d4826d",
   "metadata": {},
   "outputs": [
    {
     "data": {
      "text/plain": [
       "<AxesSubplot:>"
      ]
     },
     "execution_count": 100,
     "metadata": {},
     "output_type": "execute_result"
    },
    {
     "data": {
      "image/png": "[encoded data removed]",
      "text/plain": [
       "<Figure size 576x576 with 2 Axes>"
      ]
     },
     "metadata": {
      "needs_background": "light"
     },
     "output_type": "display_data"
    }
   ],
   "source": [
    "import seaborn as sns\n",
    "corrmat = SoloRank_with_mastery_df[['championPoints', 'win rate', 'kda']].corr()\n",
    "sns.color_palette(\"Paired\")\n",
    "plt.figure(figsize = (8,8))\n",
    "sns.heatmap(corrmat, vmax=.8, square=True, cmap=\"PiYG\", center=0, \n",
    "            annot=True, fmt='f', linewidths=.5)"
   ]
  },
  {
   "cell_type": "code",
   "execution_count": 98,
   "id": "a5792135",
   "metadata": {},
   "outputs": [
    {
     "data": {
      "text/plain": [
       "<AxesSubplot:>"
      ]
     },
     "execution_count": 98,
     "metadata": {},
     "output_type": "execute_result"
    },
    {
     "data": {
      "image/png": "[encoded data removed]",
      "text/plain": [
       "<Figure size 576x576 with 2 Axes>"
      ]
     },
     "metadata": {
      "needs_background": "light"
     },
     "output_type": "display_data"
    }
   ],
   "source": [
    "corrmat = SoloRank_with_mastery_df.corr()\n",
    "sns.color_palette(\"Paired\")\n",
    "plt.figure(figsize = (8,8))\n",
    "sns.heatmap(corrmat, vmax=.8, square=True, cmap=\"PiYG\", center=0, \n",
    "            annot=True, fmt='f', linewidths=.5)"
   ]
  }
 ],
 "metadata": {
  "kernelspec": {
   "display_name": "Python 3 (ipykernel)",
   "language": "python",
   "name": "python3"
  },
  "language_info": {
   "codemirror_mode": {
    "name": "ipython",
    "version": 3
   },
   "file_extension": ".py",
   "mimetype": "text/x-python",
   "name": "python",
   "nbconvert_exporter": "python",
   "pygments_lexer": "ipython3",
   "version": "3.9.12"
  }
 },
 "nbformat": 4,
 "nbformat_minor": 5
}
