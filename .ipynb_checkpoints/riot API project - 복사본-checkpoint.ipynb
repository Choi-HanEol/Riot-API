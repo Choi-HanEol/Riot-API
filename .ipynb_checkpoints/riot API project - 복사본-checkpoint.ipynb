{
 "cells": [
  {
   "cell_type": "markdown",
   "id": "d44d66b4",
   "metadata": {},
   "source": [
    "https://static.developer.riotgames.com/docs/lol/queues.json\n",
    "rankUrl 에서 솔로랭크의 queue id는 420이다."
   ]
  },
  {
   "cell_type": "code",
   "execution_count": 1,
   "id": "18931a54",
   "metadata": {},
   "outputs": [],
   "source": [
    "import pandas as pd\n",
    "import requests\n",
    "from urllib import parse\n",
    "import numpy as np"
   ]
  },
  {
   "cell_type": "code",
   "execution_count": 45,
   "id": "14bdbf94",
   "metadata": {},
   "outputs": [
    {
     "name": "stdout",
     "output_type": "stream",
     "text": [
      "['KR_6478591086', 'KR_6478550592', 'KR_6478502424', 'KR_6478446067', 'KR_6477307825', 'KR_6477287801', 'KR_6477262770', 'KR_6477241207', 'KR_6477185006', 'KR_6476454641', 'KR_6476436235', 'KR_6476062948', 'KR_6476032088', 'KR_6475983635', 'KR_6475934659', 'KR_6475532958', 'KR_6475085986', 'KR_6475036765', 'KR_6474979839', 'KR_6474950411', 'KR_6474903767', 'KR_6474541894', 'KR_6474517747', 'KR_6474481896', 'KR_6474403700', 'KR_6474333924', 'KR_6474288215', 'KR_6472787620', 'KR_6472759377', 'KR_6472721841', 'KR_6472673716', 'KR_6472598768', 'KR_6472479955', 'KR_6472423215', 'KR_6470838790', 'KR_6470793589', 'KR_6470735141', 'KR_6470675892', 'KR_6470628461', 'KR_6470600432', 'KR_6470523374', 'KR_6470429971', 'KR_6469279544', 'KR_6469252175', 'KR_6469210308', 'KR_6469162536', 'KR_6469103623', 'KR_6468062041', 'KR_6468042003', 'KR_6468017710', 'KR_6467985785', 'KR_6467954376', 'KR_6467921315', 'KR_6467868585', 'KR_6467829415', 'KR_6467606220', 'KR_6467536321', 'KR_6467468342', 'KR_6467407626', 'KR_6467360606', 'KR_6466754944', 'KR_6466739046', 'KR_6466717102', 'KR_6466667957', 'KR_6466637408', 'KR_6466598604', 'KR_6466559267', 'KR_6466341141', 'KR_6466267381', 'KR_6466205655', 'KR_6466165244', 'KR_6466121628', 'KR_6466075858', 'KR_6465473689', 'KR_6465424259', 'KR_6465371577', 'KR_6465313308', 'KR_6464619409', 'KR_6464577479', 'KR_6464553275', 'KR_6464254035', 'KR_6464207728', 'KR_6464167017', 'KR_6464096589', 'KR_6463757863', 'KR_6463697035', 'KR_6463604618', 'KR_6442856537', 'KR_6442737253', 'KR_6441632644', 'KR_6441039195', 'KR_6440990335', 'KR_6440935439', 'KR_6440889377', 'KR_6440848162', 'KR_6440791179', 'KR_6440696109', 'KR_6440555063', 'KR_6440522150', 'KR_6440412333']\n"
     ]
    }
   ],
   "source": [
    "apiKey = 'RGAPI-a1fd8724-b6cd-461e-ad4a-bccce834889a'\n",
    "username = 'hideonbush' # 유저아이디\n",
    "# champ = 'Udyr' # 원하는 챔프(머신러닝결과값)\n",
    "\n",
    "id = parse.quote(username) # 아이디를 URL 인코딩\n",
    "\n",
    "url = 'https://kr.api.riotgames.com/lol/summoner/v4/summoners/by-name/' + id +'?api_key=' + apiKey #puuid값을 가져오기 위한 주소\n",
    "r = requests.get(url)\n",
    "r = r.json()\n",
    "puuid = r['puuid'] # 해당 유저의 puuid 값 가져오기\n",
    "encryptedSummonerId = r['id']\n",
    "\n",
    "profileUrl = 'https://kr.api.riotgames.com/lol/league/v4/entries/by-summoner/'+ encryptedSummonerId +'?api_key=' + apiKey\n",
    "r = requests.get(profileUrl)\n",
    "r = r.json()\n",
    "if len(r) == 1:\n",
    "    wins = r[0]['wins'] \n",
    "    losses = r[0]['losses']\n",
    "else:\n",
    "    wins = r[1]['wins']    # 자유랭크 정보가 있으면 r[1]['wins']\n",
    "    losses = r[1]['losses']    # 자유랭크 정보가 있으면 r[1]['losses']\n",
    "\n",
    "# 랭크 n경기 매치아이디 가져오기, 100개가 최대, 100개 이상의 매치데이터는 없는듯\n",
    "n = str(wins + losses)\n",
    "if int(n) > 100:\n",
    "    n = '100'\n",
    "\n",
    "rankUrl = 'https://asia.api.riotgames.com/lol/match/v5/matches/by-puuid/' + puuid + '/ids?queue=420&type=ranked&start=0&count='+n+'&api_key='+ apiKey\n",
    "r = requests.get(rankUrl)\n",
    "r = r.json()\n",
    "\n",
    "rankId = r\n",
    "print(rankId)"
   ]
  },
  {
   "cell_type": "code",
   "execution_count": 46,
   "id": "b1100239",
   "metadata": {},
   "outputs": [],
   "source": [
    "def getLatestDDragon():\n",
    "    ver_url = \"https://ddragon.leagueoflegends.com/api/versions.json\"\n",
    "    r = requests.get(ver_url)\n",
    "    r = r.json()\n",
    "    version = r[0]\n",
    "\n",
    "    cham_url = 'https://ddragon.leagueoflegends.com/cdn/'+version+'/data/en_US/champion.json'\n",
    "    r = requests.get(cham_url)\n",
    "    r = r.json()\n",
    "    champion = r['data']\n",
    "    return champion\n",
    "\n",
    "# 챔피언 id를 이름으로\n",
    "def getChampionByKey(key):\n",
    "    champion = getLatestDDragon()\n",
    "    for championName in champion:   \n",
    "        if champion[championName][\"key\"] == str(key):\n",
    "            return championName"
   ]
  },
  {
   "cell_type": "code",
   "execution_count": 47,
   "id": "c47aa34b",
   "metadata": {},
   "outputs": [],
   "source": [
    "cham_mastery_url = 'https://kr.api.riotgames.com/lol/champion-mastery/v4/champion-masteries/by-summoner/'+ encryptedSummonerId +'?api_key=' + apiKey\n",
    "r = requests.get(cham_mastery_url)\n",
    "r = r.json()\n",
    "championLevel = []  #챔피언 숙련도 레벨\n",
    "championPoints = []  #챔피언 숙련도\n",
    "\n",
    "mastered_champion_name = []\n",
    "\n",
    "\n",
    "for c in r:\n",
    "    mastered_champion_name.append(getChampionByKey(c['championId']))\n",
    "    championLevel.append(c['championLevel'])\n",
    "    championPoints.append(c['championPoints'])\n",
    "\n",
    "cham_mastery_df = pd.DataFrame({'champion' : mastered_champion_name,\n",
    "                   'championPoints' : championPoints,\n",
    "                   'championLevel' : championLevel,\n",
    "                  })"
   ]
  },
  {
   "cell_type": "code",
   "execution_count": 48,
   "id": "6db259c1",
   "metadata": {},
   "outputs": [
    {
     "data": {
      "text/html": [
       "<div>\n",
       "<style scoped>\n",
       "    .dataframe tbody tr th:only-of-type {\n",
       "        vertical-align: middle;\n",
       "    }\n",
       "\n",
       "    .dataframe tbody tr th {\n",
       "        vertical-align: top;\n",
       "    }\n",
       "\n",
       "    .dataframe thead th {\n",
       "        text-align: right;\n",
       "    }\n",
       "</style>\n",
       "<table border=\"1\" class=\"dataframe\">\n",
       "  <thead>\n",
       "    <tr style=\"text-align: right;\">\n",
       "      <th></th>\n",
       "      <th>champion</th>\n",
       "      <th>championPoints</th>\n",
       "      <th>championLevel</th>\n",
       "    </tr>\n",
       "  </thead>\n",
       "  <tbody>\n",
       "    <tr>\n",
       "      <th>0</th>\n",
       "      <td>Leblanc</td>\n",
       "      <td>517167</td>\n",
       "      <td>7</td>\n",
       "    </tr>\n",
       "    <tr>\n",
       "      <th>1</th>\n",
       "      <td>Azir</td>\n",
       "      <td>283779</td>\n",
       "      <td>7</td>\n",
       "    </tr>\n",
       "    <tr>\n",
       "      <th>2</th>\n",
       "      <td>Syndra</td>\n",
       "      <td>261655</td>\n",
       "      <td>7</td>\n",
       "    </tr>\n",
       "    <tr>\n",
       "      <th>3</th>\n",
       "      <td>Zoe</td>\n",
       "      <td>256439</td>\n",
       "      <td>7</td>\n",
       "    </tr>\n",
       "    <tr>\n",
       "      <th>4</th>\n",
       "      <td>Irelia</td>\n",
       "      <td>243791</td>\n",
       "      <td>5</td>\n",
       "    </tr>\n",
       "  </tbody>\n",
       "</table>\n",
       "</div>"
      ],
      "text/plain": [
       "  champion  championPoints  championLevel\n",
       "0  Leblanc          517167              7\n",
       "1     Azir          283779              7\n",
       "2   Syndra          261655              7\n",
       "3      Zoe          256439              7\n",
       "4   Irelia          243791              5"
      ]
     },
     "execution_count": 48,
     "metadata": {},
     "output_type": "execute_result"
    }
   ],
   "source": [
    "cham_mastery_df.head()"
   ]
  },
  {
   "cell_type": "code",
   "execution_count": 49,
   "id": "cc0452f6",
   "metadata": {},
   "outputs": [
    {
     "ename": "KeyError",
     "evalue": "'info'",
     "output_type": "error",
     "traceback": [
      "\u001b[1;31m---------------------------------------------------------------------------\u001b[0m",
      "\u001b[1;31mKeyError\u001b[0m                                  Traceback (most recent call last)",
      "Input \u001b[1;32mIn [49]\u001b[0m, in \u001b[0;36m<cell line: 6>\u001b[1;34m()\u001b[0m\n\u001b[0;32m      9\u001b[0m     r \u001b[38;5;241m=\u001b[39m r\u001b[38;5;241m.\u001b[39mjson()\n\u001b[0;32m     10\u001b[0m \u001b[38;5;66;03m#     print(r)\u001b[39;00m\n\u001b[0;32m     11\u001b[0m \u001b[38;5;66;03m#     break\u001b[39;00m\n\u001b[1;32m---> 12\u001b[0m     info \u001b[38;5;241m=\u001b[39m \u001b[43mr\u001b[49m\u001b[43m[\u001b[49m\u001b[38;5;124;43m'\u001b[39;49m\u001b[38;5;124;43minfo\u001b[39;49m\u001b[38;5;124;43m'\u001b[39;49m\u001b[43m]\u001b[49m  \u001b[38;5;66;03m# 전체 데이터에서 info를 추출\u001b[39;00m\n\u001b[0;32m     13\u001b[0m     part \u001b[38;5;241m=\u001b[39m info[\u001b[38;5;124m'\u001b[39m\u001b[38;5;124mparticipants\u001b[39m\u001b[38;5;124m'\u001b[39m] \u001b[38;5;66;03m# info 데이터에서 유저들의 정보 추출\u001b[39;00m\n\u001b[0;32m     14\u001b[0m     \u001b[38;5;28;01mfor\u001b[39;00m j \u001b[38;5;129;01min\u001b[39;00m \u001b[38;5;28mrange\u001b[39m(\u001b[38;5;241m0\u001b[39m,\u001b[38;5;241m10\u001b[39m): \u001b[38;5;66;03m# 총 10명의 유저중 내가 원하는 puuid값을 가진 유저를 추출\u001b[39;00m\n",
      "\u001b[1;31mKeyError\u001b[0m: 'info'"
     ]
    }
   ],
   "source": [
    "win = []\n",
    "assists = []\n",
    "deaths = []\n",
    "kills = []\n",
    "cham = []\n",
    "for i in rankId:\n",
    "    url = 'https://asia.api.riotgames.com/lol/match/v5/matches/' + i + '?api_key=' + apiKey\n",
    "    r = requests.get(url)\n",
    "    r = r.json()\n",
    "#     print(r)\n",
    "#     break\n",
    "    info = r['info']  # 전체 데이터에서 info를 추출\n",
    "    part = info['participants'] # info 데이터에서 유저들의 정보 추출\n",
    "    for j in range(0,10): # 총 10명의 유저중 내가 원하는 puuid값을 가진 유저를 추출\n",
    "        if part[j]['puuid'] == puuid:\n",
    "#             if part[j]['championName'] == champ: # 유저가 champ를 플레이했던 매치데이터를 추출\n",
    "            assists.append(part[j]['assists'])\n",
    "            cham.append(part[j]['championName'])\n",
    "            win.append(part[j]['win'])\n",
    "            deaths.append(part[j]['deaths'])\n",
    "            kills.append(part[j]['kills'])\n",
    "                # 승리, 킬뎃값 넣어주기\n",
    "print(cham)\n",
    "print(win)\n",
    "print(deaths)\n",
    "print(kills)"
   ]
  },
  {
   "cell_type": "code",
   "execution_count": 28,
   "id": "d24c9e4b",
   "metadata": {},
   "outputs": [
    {
     "data": {
      "text/html": [
       "<div>\n",
       "<style scoped>\n",
       "    .dataframe tbody tr th:only-of-type {\n",
       "        vertical-align: middle;\n",
       "    }\n",
       "\n",
       "    .dataframe tbody tr th {\n",
       "        vertical-align: top;\n",
       "    }\n",
       "\n",
       "    .dataframe thead th {\n",
       "        text-align: right;\n",
       "    }\n",
       "</style>\n",
       "<table border=\"1\" class=\"dataframe\">\n",
       "  <thead>\n",
       "    <tr style=\"text-align: right;\">\n",
       "      <th></th>\n",
       "      <th>champion</th>\n",
       "      <th>win</th>\n",
       "      <th>kills</th>\n",
       "      <th>deaths</th>\n",
       "      <th>assists</th>\n",
       "    </tr>\n",
       "  </thead>\n",
       "  <tbody>\n",
       "    <tr>\n",
       "      <th>0</th>\n",
       "      <td>Kennen</td>\n",
       "      <td>True</td>\n",
       "      <td>10</td>\n",
       "      <td>3</td>\n",
       "      <td>6</td>\n",
       "    </tr>\n",
       "    <tr>\n",
       "      <th>1</th>\n",
       "      <td>KSante</td>\n",
       "      <td>True</td>\n",
       "      <td>3</td>\n",
       "      <td>2</td>\n",
       "      <td>4</td>\n",
       "    </tr>\n",
       "    <tr>\n",
       "      <th>2</th>\n",
       "      <td>Nautilus</td>\n",
       "      <td>True</td>\n",
       "      <td>0</td>\n",
       "      <td>2</td>\n",
       "      <td>13</td>\n",
       "    </tr>\n",
       "    <tr>\n",
       "      <th>3</th>\n",
       "      <td>Leblanc</td>\n",
       "      <td>True</td>\n",
       "      <td>2</td>\n",
       "      <td>4</td>\n",
       "      <td>3</td>\n",
       "    </tr>\n",
       "    <tr>\n",
       "      <th>4</th>\n",
       "      <td>Ahri</td>\n",
       "      <td>True</td>\n",
       "      <td>9</td>\n",
       "      <td>3</td>\n",
       "      <td>17</td>\n",
       "    </tr>\n",
       "  </tbody>\n",
       "</table>\n",
       "</div>"
      ],
      "text/plain": [
       "   champion   win  kills  deaths  assists\n",
       "0    Kennen  True     10       3        6\n",
       "1    KSante  True      3       2        4\n",
       "2  Nautilus  True      0       2       13\n",
       "3   Leblanc  True      2       4        3\n",
       "4      Ahri  True      9       3       17"
      ]
     },
     "execution_count": 28,
     "metadata": {},
     "output_type": "execute_result"
    }
   ],
   "source": [
    "kda_df = pd.DataFrame({'champion' : cham,\n",
    "                   'win' : win,\n",
    "                   'kills' : kills,\n",
    "                   'deaths' : deaths,\n",
    "                   'assists' : assists\n",
    "                  })\n",
    "kda_df.head()"
   ]
  },
  {
   "cell_type": "code",
   "execution_count": 29,
   "id": "5de7ad53",
   "metadata": {},
   "outputs": [
    {
     "data": {
      "text/html": [
       "<div>\n",
       "<style scoped>\n",
       "    .dataframe tbody tr th:only-of-type {\n",
       "        vertical-align: middle;\n",
       "    }\n",
       "\n",
       "    .dataframe tbody tr th {\n",
       "        vertical-align: top;\n",
       "    }\n",
       "\n",
       "    .dataframe thead th {\n",
       "        text-align: right;\n",
       "    }\n",
       "</style>\n",
       "<table border=\"1\" class=\"dataframe\">\n",
       "  <thead>\n",
       "    <tr style=\"text-align: right;\">\n",
       "      <th></th>\n",
       "      <th>champion</th>\n",
       "      <th>win</th>\n",
       "      <th>kills</th>\n",
       "      <th>deaths</th>\n",
       "      <th>assists</th>\n",
       "    </tr>\n",
       "  </thead>\n",
       "  <tbody>\n",
       "    <tr>\n",
       "      <th>0</th>\n",
       "      <td>Kennen</td>\n",
       "      <td>True</td>\n",
       "      <td>10</td>\n",
       "      <td>3</td>\n",
       "      <td>6</td>\n",
       "    </tr>\n",
       "    <tr>\n",
       "      <th>16</th>\n",
       "      <td>Kennen</td>\n",
       "      <td>True</td>\n",
       "      <td>9</td>\n",
       "      <td>3</td>\n",
       "      <td>5</td>\n",
       "    </tr>\n",
       "  </tbody>\n",
       "</table>\n",
       "</div>"
      ],
      "text/plain": [
       "   champion   win  kills  deaths  assists\n",
       "0    Kennen  True     10       3        6\n",
       "16   Kennen  True      9       3        5"
      ]
     },
     "execution_count": 29,
     "metadata": {},
     "output_type": "execute_result"
    }
   ],
   "source": [
    "   \n",
    "tmp_df = kda_df.loc[(kda_df['champion'] == cham[0])]\n",
    "tmp_df"
   ]
  },
  {
   "cell_type": "code",
   "execution_count": 30,
   "id": "b4ee0751",
   "metadata": {},
   "outputs": [],
   "source": [
    "cham = list(set(cham))\n",
    "SoloRank_df = pd.DataFrame(columns=['total_play','champion', 'win rate', 'kda'])\n",
    "\n",
    "for i in range(len(cham)):    \n",
    "    tmp_df = kda_df.loc[(kda_df['champion'] == cham[i])]\n",
    "    win_rate = len(tmp_df.loc[tmp_df['win'] == True]) / len(tmp_df)    #승률\n",
    "    win_rate = round(win_rate, 2)\n",
    "    try:\n",
    "        kda = float(tmp_df['kills'].sum() + tmp_df['assists'].sum()) / float(tmp_df['deaths'].sum())\n",
    "        kda = round(kda, 2)\n",
    "    except ZeroDivisionError:\n",
    "        kda = 'perfect - no deaths'\n",
    "    SoloRank_df.loc[len(SoloRank_df)] = [len(tmp_df), cham[i], win_rate, kda]"
   ]
  },
  {
   "cell_type": "code",
   "execution_count": 31,
   "id": "b04081a0",
   "metadata": {},
   "outputs": [],
   "source": [
    "SoloRank_df = SoloRank_df.sort_values('total_play', ascending=False)\n",
    "SoloRank_df = SoloRank_df.set_index(keys=['total_play'])"
   ]
  },
  {
   "cell_type": "code",
   "execution_count": 32,
   "id": "22561306",
   "metadata": {},
   "outputs": [
    {
     "data": {
      "text/html": [
       "<div>\n",
       "<style scoped>\n",
       "    .dataframe tbody tr th:only-of-type {\n",
       "        vertical-align: middle;\n",
       "    }\n",
       "\n",
       "    .dataframe tbody tr th {\n",
       "        vertical-align: top;\n",
       "    }\n",
       "\n",
       "    .dataframe thead th {\n",
       "        text-align: right;\n",
       "    }\n",
       "</style>\n",
       "<table border=\"1\" class=\"dataframe\">\n",
       "  <thead>\n",
       "    <tr style=\"text-align: right;\">\n",
       "      <th></th>\n",
       "      <th>champion</th>\n",
       "      <th>win rate</th>\n",
       "      <th>kda</th>\n",
       "    </tr>\n",
       "    <tr>\n",
       "      <th>total_play</th>\n",
       "      <th></th>\n",
       "      <th></th>\n",
       "      <th></th>\n",
       "    </tr>\n",
       "  </thead>\n",
       "  <tbody>\n",
       "    <tr>\n",
       "      <th>10</th>\n",
       "      <td>Ahri</td>\n",
       "      <td>0.70</td>\n",
       "      <td>9.00</td>\n",
       "    </tr>\n",
       "    <tr>\n",
       "      <th>4</th>\n",
       "      <td>Ornn</td>\n",
       "      <td>0.50</td>\n",
       "      <td>1.83</td>\n",
       "    </tr>\n",
       "    <tr>\n",
       "      <th>4</th>\n",
       "      <td>KSante</td>\n",
       "      <td>0.50</td>\n",
       "      <td>1.54</td>\n",
       "    </tr>\n",
       "    <tr>\n",
       "      <th>4</th>\n",
       "      <td>Tristana</td>\n",
       "      <td>0.50</td>\n",
       "      <td>1.62</td>\n",
       "    </tr>\n",
       "    <tr>\n",
       "      <th>3</th>\n",
       "      <td>Leblanc</td>\n",
       "      <td>0.67</td>\n",
       "      <td>2.25</td>\n",
       "    </tr>\n",
       "  </tbody>\n",
       "</table>\n",
       "</div>"
      ],
      "text/plain": [
       "            champion  win rate   kda\n",
       "total_play                          \n",
       "10              Ahri      0.70  9.00\n",
       "4               Ornn      0.50  1.83\n",
       "4             KSante      0.50  1.54\n",
       "4           Tristana      0.50  1.62\n",
       "3            Leblanc      0.67  2.25"
      ]
     },
     "execution_count": 32,
     "metadata": {},
     "output_type": "execute_result"
    }
   ],
   "source": [
    "SoloRank_df.head()"
   ]
  },
  {
   "cell_type": "code",
   "execution_count": 33,
   "id": "86ada5c7",
   "metadata": {},
   "outputs": [
    {
     "data": {
      "text/html": [
       "<div>\n",
       "<style scoped>\n",
       "    .dataframe tbody tr th:only-of-type {\n",
       "        vertical-align: middle;\n",
       "    }\n",
       "\n",
       "    .dataframe tbody tr th {\n",
       "        vertical-align: top;\n",
       "    }\n",
       "\n",
       "    .dataframe thead th {\n",
       "        text-align: right;\n",
       "    }\n",
       "</style>\n",
       "<table border=\"1\" class=\"dataframe\">\n",
       "  <thead>\n",
       "    <tr style=\"text-align: right;\">\n",
       "      <th></th>\n",
       "      <th>champion</th>\n",
       "      <th>win rate</th>\n",
       "      <th>kda</th>\n",
       "    </tr>\n",
       "    <tr>\n",
       "      <th>total_play</th>\n",
       "      <th></th>\n",
       "      <th></th>\n",
       "      <th></th>\n",
       "    </tr>\n",
       "  </thead>\n",
       "  <tbody>\n",
       "    <tr>\n",
       "      <th>10</th>\n",
       "      <td>Ahri</td>\n",
       "      <td>0.7</td>\n",
       "      <td>9.0</td>\n",
       "    </tr>\n",
       "    <tr>\n",
       "      <th>4</th>\n",
       "      <td>NaN</td>\n",
       "      <td>NaN</td>\n",
       "      <td>NaN</td>\n",
       "    </tr>\n",
       "    <tr>\n",
       "      <th>4</th>\n",
       "      <td>NaN</td>\n",
       "      <td>NaN</td>\n",
       "      <td>NaN</td>\n",
       "    </tr>\n",
       "    <tr>\n",
       "      <th>4</th>\n",
       "      <td>NaN</td>\n",
       "      <td>NaN</td>\n",
       "      <td>NaN</td>\n",
       "    </tr>\n",
       "    <tr>\n",
       "      <th>3</th>\n",
       "      <td>NaN</td>\n",
       "      <td>NaN</td>\n",
       "      <td>NaN</td>\n",
       "    </tr>\n",
       "  </tbody>\n",
       "</table>\n",
       "</div>"
      ],
      "text/plain": [
       "           champion  win rate  kda\n",
       "total_play                        \n",
       "10             Ahri       0.7  9.0\n",
       "4               NaN       NaN  NaN\n",
       "4               NaN       NaN  NaN\n",
       "4               NaN       NaN  NaN\n",
       "3               NaN       NaN  NaN"
      ]
     },
     "execution_count": 33,
     "metadata": {},
     "output_type": "execute_result"
    }
   ],
   "source": [
    "SoloRank_df.where('Ahri' == SoloRank_df['champion']).head() # where을 쓰면 나머지 행까지 NaN으로 표시되면서 나타냄"
   ]
  },
  {
   "cell_type": "code",
   "execution_count": 34,
   "id": "4301d2a6",
   "metadata": {},
   "outputs": [
    {
     "data": {
      "text/html": [
       "<div>\n",
       "<style scoped>\n",
       "    .dataframe tbody tr th:only-of-type {\n",
       "        vertical-align: middle;\n",
       "    }\n",
       "\n",
       "    .dataframe tbody tr th {\n",
       "        vertical-align: top;\n",
       "    }\n",
       "\n",
       "    .dataframe thead th {\n",
       "        text-align: right;\n",
       "    }\n",
       "</style>\n",
       "<table border=\"1\" class=\"dataframe\">\n",
       "  <thead>\n",
       "    <tr style=\"text-align: right;\">\n",
       "      <th></th>\n",
       "      <th>champion</th>\n",
       "      <th>win rate</th>\n",
       "      <th>kda</th>\n",
       "    </tr>\n",
       "    <tr>\n",
       "      <th>total_play</th>\n",
       "      <th></th>\n",
       "      <th></th>\n",
       "      <th></th>\n",
       "    </tr>\n",
       "  </thead>\n",
       "  <tbody>\n",
       "    <tr>\n",
       "      <th>10</th>\n",
       "      <td>Ahri</td>\n",
       "      <td>0.7</td>\n",
       "      <td>9.0</td>\n",
       "    </tr>\n",
       "  </tbody>\n",
       "</table>\n",
       "</div>"
      ],
      "text/plain": [
       "           champion  win rate  kda\n",
       "total_play                        \n",
       "10             Ahri       0.7  9.0"
      ]
     },
     "execution_count": 34,
     "metadata": {},
     "output_type": "execute_result"
    }
   ],
   "source": [
    "SoloRank_df[SoloRank_df['champion'] == 'Ahri']"
   ]
  },
  {
   "cell_type": "code",
   "execution_count": 35,
   "id": "952b8e84",
   "metadata": {},
   "outputs": [],
   "source": [
    "SoloRank_with_mastery_df = pd.merge(SoloRank_df, cham_mastery_df, left_on='champion', right_on='champion', how='left')"
   ]
  },
  {
   "cell_type": "code",
   "execution_count": 36,
   "id": "7e730cb7",
   "metadata": {},
   "outputs": [
    {
     "data": {
      "text/html": [
       "<div>\n",
       "<style scoped>\n",
       "    .dataframe tbody tr th:only-of-type {\n",
       "        vertical-align: middle;\n",
       "    }\n",
       "\n",
       "    .dataframe tbody tr th {\n",
       "        vertical-align: top;\n",
       "    }\n",
       "\n",
       "    .dataframe thead th {\n",
       "        text-align: right;\n",
       "    }\n",
       "</style>\n",
       "<table border=\"1\" class=\"dataframe\">\n",
       "  <thead>\n",
       "    <tr style=\"text-align: right;\">\n",
       "      <th></th>\n",
       "      <th>champion</th>\n",
       "      <th>win rate</th>\n",
       "      <th>kda</th>\n",
       "      <th>championPoints</th>\n",
       "      <th>championLevel</th>\n",
       "    </tr>\n",
       "    <tr>\n",
       "      <th>total_play</th>\n",
       "      <th></th>\n",
       "      <th></th>\n",
       "      <th></th>\n",
       "      <th></th>\n",
       "      <th></th>\n",
       "    </tr>\n",
       "  </thead>\n",
       "  <tbody>\n",
       "    <tr>\n",
       "      <th>10</th>\n",
       "      <td>Ahri</td>\n",
       "      <td>0.70</td>\n",
       "      <td>9.00</td>\n",
       "      <td>108265</td>\n",
       "      <td>7</td>\n",
       "    </tr>\n",
       "    <tr>\n",
       "      <th>4</th>\n",
       "      <td>Ornn</td>\n",
       "      <td>0.50</td>\n",
       "      <td>1.83</td>\n",
       "      <td>11925</td>\n",
       "      <td>3</td>\n",
       "    </tr>\n",
       "    <tr>\n",
       "      <th>4</th>\n",
       "      <td>KSante</td>\n",
       "      <td>0.50</td>\n",
       "      <td>1.54</td>\n",
       "      <td>24515</td>\n",
       "      <td>5</td>\n",
       "    </tr>\n",
       "    <tr>\n",
       "      <th>4</th>\n",
       "      <td>Tristana</td>\n",
       "      <td>0.50</td>\n",
       "      <td>1.62</td>\n",
       "      <td>57936</td>\n",
       "      <td>7</td>\n",
       "    </tr>\n",
       "    <tr>\n",
       "      <th>3</th>\n",
       "      <td>Leblanc</td>\n",
       "      <td>0.67</td>\n",
       "      <td>2.25</td>\n",
       "      <td>517167</td>\n",
       "      <td>7</td>\n",
       "    </tr>\n",
       "    <tr>\n",
       "      <th>3</th>\n",
       "      <td>Azir</td>\n",
       "      <td>0.67</td>\n",
       "      <td>4.50</td>\n",
       "      <td>283779</td>\n",
       "      <td>7</td>\n",
       "    </tr>\n",
       "    <tr>\n",
       "      <th>3</th>\n",
       "      <td>Akshan</td>\n",
       "      <td>0.67</td>\n",
       "      <td>1.21</td>\n",
       "      <td>13833</td>\n",
       "      <td>4</td>\n",
       "    </tr>\n",
       "    <tr>\n",
       "      <th>2</th>\n",
       "      <td>Nautilus</td>\n",
       "      <td>0.50</td>\n",
       "      <td>3.50</td>\n",
       "      <td>15197</td>\n",
       "      <td>4</td>\n",
       "    </tr>\n",
       "    <tr>\n",
       "      <th>2</th>\n",
       "      <td>Kennen</td>\n",
       "      <td>1.00</td>\n",
       "      <td>5.00</td>\n",
       "      <td>21894</td>\n",
       "      <td>5</td>\n",
       "    </tr>\n",
       "    <tr>\n",
       "      <th>2</th>\n",
       "      <td>Lissandra</td>\n",
       "      <td>0.00</td>\n",
       "      <td>1.56</td>\n",
       "      <td>41855</td>\n",
       "      <td>7</td>\n",
       "    </tr>\n",
       "    <tr>\n",
       "      <th>1</th>\n",
       "      <td>Nidalee</td>\n",
       "      <td>0.00</td>\n",
       "      <td>2.30</td>\n",
       "      <td>47503</td>\n",
       "      <td>7</td>\n",
       "    </tr>\n",
       "    <tr>\n",
       "      <th>1</th>\n",
       "      <td>KogMaw</td>\n",
       "      <td>0.00</td>\n",
       "      <td>0.82</td>\n",
       "      <td>3694</td>\n",
       "      <td>2</td>\n",
       "    </tr>\n",
       "    <tr>\n",
       "      <th>1</th>\n",
       "      <td>Fiora</td>\n",
       "      <td>1.00</td>\n",
       "      <td>4.50</td>\n",
       "      <td>58604</td>\n",
       "      <td>6</td>\n",
       "    </tr>\n",
       "    <tr>\n",
       "      <th>1</th>\n",
       "      <td>Sylas</td>\n",
       "      <td>0.00</td>\n",
       "      <td>1.00</td>\n",
       "      <td>234576</td>\n",
       "      <td>7</td>\n",
       "    </tr>\n",
       "    <tr>\n",
       "      <th>1</th>\n",
       "      <td>Darius</td>\n",
       "      <td>0.00</td>\n",
       "      <td>0.80</td>\n",
       "      <td>16561</td>\n",
       "      <td>4</td>\n",
       "    </tr>\n",
       "    <tr>\n",
       "      <th>1</th>\n",
       "      <td>Kassadin</td>\n",
       "      <td>0.00</td>\n",
       "      <td>1.25</td>\n",
       "      <td>109465</td>\n",
       "      <td>7</td>\n",
       "    </tr>\n",
       "    <tr>\n",
       "      <th>1</th>\n",
       "      <td>Khazix</td>\n",
       "      <td>1.00</td>\n",
       "      <td>5.00</td>\n",
       "      <td>22368</td>\n",
       "      <td>5</td>\n",
       "    </tr>\n",
       "    <tr>\n",
       "      <th>1</th>\n",
       "      <td>Blitzcrank</td>\n",
       "      <td>0.00</td>\n",
       "      <td>1.30</td>\n",
       "      <td>33969</td>\n",
       "      <td>7</td>\n",
       "    </tr>\n",
       "    <tr>\n",
       "      <th>1</th>\n",
       "      <td>Rakan</td>\n",
       "      <td>0.00</td>\n",
       "      <td>1.50</td>\n",
       "      <td>14695</td>\n",
       "      <td>4</td>\n",
       "    </tr>\n",
       "    <tr>\n",
       "      <th>1</th>\n",
       "      <td>Thresh</td>\n",
       "      <td>0.00</td>\n",
       "      <td>0.38</td>\n",
       "      <td>40164</td>\n",
       "      <td>6</td>\n",
       "    </tr>\n",
       "    <tr>\n",
       "      <th>1</th>\n",
       "      <td>Yone</td>\n",
       "      <td>0.00</td>\n",
       "      <td>4.00</td>\n",
       "      <td>92863</td>\n",
       "      <td>6</td>\n",
       "    </tr>\n",
       "    <tr>\n",
       "      <th>1</th>\n",
       "      <td>Jayce</td>\n",
       "      <td>0.00</td>\n",
       "      <td>1.50</td>\n",
       "      <td>83743</td>\n",
       "      <td>7</td>\n",
       "    </tr>\n",
       "    <tr>\n",
       "      <th>1</th>\n",
       "      <td>Annie</td>\n",
       "      <td>1.00</td>\n",
       "      <td>18.00</td>\n",
       "      <td>20325</td>\n",
       "      <td>4</td>\n",
       "    </tr>\n",
       "  </tbody>\n",
       "</table>\n",
       "</div>"
      ],
      "text/plain": [
       "              champion  win rate    kda  championPoints  championLevel\n",
       "total_play                                                            \n",
       "10                Ahri      0.70   9.00          108265              7\n",
       "4                 Ornn      0.50   1.83           11925              3\n",
       "4               KSante      0.50   1.54           24515              5\n",
       "4             Tristana      0.50   1.62           57936              7\n",
       "3              Leblanc      0.67   2.25          517167              7\n",
       "3                 Azir      0.67   4.50          283779              7\n",
       "3               Akshan      0.67   1.21           13833              4\n",
       "2             Nautilus      0.50   3.50           15197              4\n",
       "2               Kennen      1.00   5.00           21894              5\n",
       "2            Lissandra      0.00   1.56           41855              7\n",
       "1              Nidalee      0.00   2.30           47503              7\n",
       "1               KogMaw      0.00   0.82            3694              2\n",
       "1                Fiora      1.00   4.50           58604              6\n",
       "1                Sylas      0.00   1.00          234576              7\n",
       "1               Darius      0.00   0.80           16561              4\n",
       "1             Kassadin      0.00   1.25          109465              7\n",
       "1               Khazix      1.00   5.00           22368              5\n",
       "1           Blitzcrank      0.00   1.30           33969              7\n",
       "1                Rakan      0.00   1.50           14695              4\n",
       "1               Thresh      0.00   0.38           40164              6\n",
       "1                 Yone      0.00   4.00           92863              6\n",
       "1                Jayce      0.00   1.50           83743              7\n",
       "1                Annie      1.00  18.00           20325              4"
      ]
     },
     "execution_count": 36,
     "metadata": {},
     "output_type": "execute_result"
    }
   ],
   "source": [
    "SoloRank_with_mastery_df.set_index(SoloRank_df.index)"
   ]
  },
  {
   "cell_type": "code",
   "execution_count": 37,
   "id": "d3a0fb60",
   "metadata": {},
   "outputs": [
    {
     "data": {
      "image/png": "[encoded data removed]",
      "text/plain": [
       "<Figure size 720x360 with 1 Axes>"
      ]
     },
     "metadata": {
      "needs_background": "light"
     },
     "output_type": "display_data"
    }
   ],
   "source": [
    "import matplotlib.pyplot as plt\n",
    "import matplotlib\n",
    "\n",
    "x = SoloRank_with_mastery_df['championPoints']\n",
    "y = SoloRank_with_mastery_df['win rate']\n",
    "\n",
    "plt.figure(figsize=(10, 5))\n",
    "plt.xlabel(\"championPoints\")\n",
    "plt.ylabel(\"win rate\")\n",
    "plt.scatter(x, y)\n",
    "plt.show()"
   ]
  },
  {
   "cell_type": "markdown",
   "id": "f034f0cc",
   "metadata": {},
   "source": [
    "x 좌표의 값의 범위가 너무 넓다. 표준화 및 정규화를 하여 스케일링하자."
   ]
  },
  {
   "cell_type": "markdown",
   "id": "a992e0e2",
   "metadata": {},
   "source": [
    "### 데이터 표준화\n",
    "StandardScaler: 데이터를 표준 정규 분포로 변환하는 데 사용되는 변환기, 평균을 0, 분산을 1로 표준화"
   ]
  },
  {
   "cell_type": "code",
   "execution_count": 38,
   "id": "29726919",
   "metadata": {},
   "outputs": [
    {
     "name": "stderr",
     "output_type": "stream",
     "text": [
      "C:\\Users\\USER\\anaconda3\\lib\\site-packages\\scipy\\__init__.py:146: UserWarning: A NumPy version >=1.16.5 and <1.23.0 is required for this version of SciPy (detected version 1.23.5\n",
      "  warnings.warn(f\"A NumPy version >={np_minversion} and <{np_maxversion}\"\n"
     ]
    }
   ],
   "source": [
    "from sklearn.preprocessing import StandardScaler\n",
    "x = np.array(x).reshape(-1, 1)\n",
    "scaler = StandardScaler()\n",
    "scaled_x = scaler.fit_transform(x)"
   ]
  },
  {
   "cell_type": "code",
   "execution_count": 39,
   "id": "ddacf2b8",
   "metadata": {},
   "outputs": [
    {
     "data": {
      "image/png": "[encoded data removed]",
      "text/plain": [
       "<Figure size 720x360 with 1 Axes>"
      ]
     },
     "metadata": {
      "needs_background": "light"
     },
     "output_type": "display_data"
    }
   ],
   "source": [
    "plt.figure(figsize=(10, 5))\n",
    "plt.xlabel(\"championPoints\")\n",
    "plt.ylabel(\"win rate\")\n",
    "plt.scatter(scaled_x, y)\n",
    "plt.show()"
   ]
  },
  {
   "cell_type": "markdown",
   "id": "af5c7ceb",
   "metadata": {},
   "source": [
    "### 데이터 정규화\n",
    "MinMaxScaler: 0~1 사이의 값으로 정규화"
   ]
  },
  {
   "cell_type": "code",
   "execution_count": 40,
   "id": "18b9f94a",
   "metadata": {},
   "outputs": [],
   "source": [
    "from sklearn.preprocessing import MinMaxScaler\n",
    "x = np.array(x).reshape(-1, 1)\n",
    "scaler = MinMaxScaler()\n",
    "scaled_x = scaler.fit_transform(x)"
   ]
  },
  {
   "cell_type": "code",
   "execution_count": 41,
   "id": "0bb02cdc",
   "metadata": {},
   "outputs": [
    {
     "data": {
      "image/png": "[encoded data removed]",
      "text/plain": [
       "<Figure size 720x360 with 1 Axes>"
      ]
     },
     "metadata": {
      "needs_background": "light"
     },
     "output_type": "display_data"
    }
   ],
   "source": [
    "plt.figure(figsize=(10, 5))\n",
    "plt.xlabel(\"championPoints\")\n",
    "plt.ylabel(\"win rate\")\n",
    "plt.scatter(scaled_x, y)\n",
    "plt.show()"
   ]
  },
  {
   "cell_type": "markdown",
   "id": "5723a660",
   "metadata": {},
   "source": [
    "### 히트맵 그리기"
   ]
  },
  {
   "cell_type": "code",
   "execution_count": 43,
   "id": "308121d0",
   "metadata": {},
   "outputs": [
    {
     "data": {
      "text/plain": [
       "<AxesSubplot:>"
      ]
     },
     "execution_count": 43,
     "metadata": {},
     "output_type": "execute_result"
    },
    {
     "data": {
      "image/png": "[encoded data removed]",
      "text/plain": [
       "<Figure size 576x576 with 2 Axes>"
      ]
     },
     "metadata": {
      "needs_background": "light"
     },
     "output_type": "display_data"
    }
   ],
   "source": [
    "import seaborn as sns\n",
    "corrmat = SoloRank_with_mastery_df[['championPoints', 'win rate']].corr()\n",
    "sns.color_palette(\"Paired\")\n",
    "plt.figure(figsize = (8,8))\n",
    "sns.heatmap(corrmat, vmax=.8, square=True, cmap=\"PiYG\", center=0, \n",
    "            annot=True, fmt='f', linewidths=.5)"
   ]
  },
  {
   "cell_type": "code",
   "execution_count": 44,
   "id": "1533f6d2",
   "metadata": {},
   "outputs": [
    {
     "data": {
      "text/plain": [
       "<AxesSubplot:>"
      ]
     },
     "execution_count": 44,
     "metadata": {},
     "output_type": "execute_result"
    },
    {
     "data": {
      "image/png": "[encoded data removed]",
      "text/plain": [
       "<Figure size 576x576 with 2 Axes>"
      ]
     },
     "metadata": {
      "needs_background": "light"
     },
     "output_type": "display_data"
    }
   ],
   "source": [
    "corrmat = SoloRank_with_mastery_df.corr()\n",
    "sns.color_palette(\"Paired\")\n",
    "plt.figure(figsize = (8,8))\n",
    "sns.heatmap(corrmat, vmax=.8, square=True, cmap=\"PiYG\", center=0, \n",
    "            annot=True, fmt='f', linewidths=.5)"
   ]
  },
  {
   "cell_type": "code",
   "execution_count": null,
   "id": "69aa993c",
   "metadata": {},
   "outputs": [],
   "source": []
  }
 ],
 "metadata": {
  "kernelspec": {
   "display_name": "Python 3 (ipykernel)",
   "language": "python",
   "name": "python3"
  },
  "language_info": {
   "codemirror_mode": {
    "name": "ipython",
    "version": 3
   },
   "file_extension": ".py",
   "mimetype": "text/x-python",
   "name": "python",
   "nbconvert_exporter": "python",
   "pygments_lexer": "ipython3",
   "version": "3.9.12"
  }
 },
 "nbformat": 4,
 "nbformat_minor": 5
}
